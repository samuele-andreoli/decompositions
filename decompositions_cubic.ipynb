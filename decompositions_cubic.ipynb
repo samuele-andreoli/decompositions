{
 "cells": [
  {
   "cell_type": "code",
   "execution_count": 8,
   "metadata": {},
   "outputs": [],
   "source": [
    "load(\"core_utils.py\")"
   ]
  },
  {
   "cell_type": "markdown",
   "metadata": {},
   "source": [
    "# First pass - search for values of n that admit a decomposition"
   ]
  },
  {
   "cell_type": "code",
   "execution_count": 9,
   "metadata": {},
   "outputs": [
    {
     "data": {
      "text/plain": [
       "[4,\n",
       " 5,\n",
       " 6,\n",
       " 7,\n",
       " 9,\n",
       " 10,\n",
       " 11,\n",
       " 12,\n",
       " 13,\n",
       " 14,\n",
       " 15,\n",
       " 17,\n",
       " 18,\n",
       " 19,\n",
       " 20,\n",
       " 21,\n",
       " 22,\n",
       " 23,\n",
       " 25,\n",
       " 26,\n",
       " 28,\n",
       " 29,\n",
       " 30,\n",
       " 31,\n",
       " 33,\n",
       " 34,\n",
       " 35,\n",
       " 37,\n",
       " 38,\n",
       " 39,\n",
       " 41,\n",
       " 42,\n",
       " 43,\n",
       " 45,\n",
       " 46,\n",
       " 47,\n",
       " 49,\n",
       " 51,\n",
       " 52,\n",
       " 53,\n",
       " 57,\n",
       " 59,\n",
       " 60,\n",
       " 61,\n",
       " 62,\n",
       " 65,\n",
       " 67,\n",
       " 68,\n",
       " 69,\n",
       " 71,\n",
       " 73,\n",
       " 76,\n",
       " 77,\n",
       " 78,\n",
       " 79,\n",
       " 83,\n",
       " 85,\n",
       " 86,\n",
       " 89,\n",
       " 92,\n",
       " 93,\n",
       " 95,\n",
       " 97]"
      ]
     },
     "execution_count": 9,
     "metadata": {},
     "output_type": "execute_result"
    }
   ],
   "source": [
    "existence_values = []\n",
    "\n",
    "for n in range(4,100):\n",
    "    en = (1<<n)-1\n",
    "\n",
    "    factors = factor(en)\n",
    "    pm1_divisors = [divisors(p[0]-1) for p in factors]\n",
    "\n",
    "    found = False\n",
    "\n",
    "    for i in range(2^dyadic(n)):\n",
    "        # I know there is some redundancy here, but I don't want to complicate the code too much and this is fast enough\n",
    "        for j in range(i+1,n-1):\n",
    "            for k in range(j+1,n):\n",
    "                d = (1<<i) + (1<<j) + (1<<k)\n",
    "\n",
    "                # Sieve with the Jacobi Symbol (i.e. even order)\n",
    "                if jacobi_symbol(d,en) != -1:\n",
    "                    continue\n",
    "\n",
    "                if gcd(en, pow(d, order(d, factors, pm1_divisors)//2, en) - 1) == 1:\n",
    "                    assert pow(d, e//2, en) == en-1\n",
    "                    existence_values.append(n)\n",
    "                    found = True\n",
    "                    break\n",
    "        \n",
    "            if found:\n",
    "                break\n",
    "        if found:\n",
    "            break\n",
    "\n",
    "existence_values  \n",
    "                "
   ]
  },
  {
   "cell_type": "markdown",
   "metadata": {},
   "source": [
    "# Second pass - find shortest decomposition for the values of n that admit a decomposition"
   ]
  },
  {
   "cell_type": "code",
   "execution_count": 11,
   "metadata": {},
   "outputs": [
    {
     "name": "stdout",
     "output_type": "stream",
     "text": [
      "n=4 en=15 phi=8\n",
      "\td=14 i=1 j=2 k=3, e=1\n"
     ]
    },
    {
     "ename": "AssertionError",
     "evalue": "",
     "output_type": "error",
     "traceback": [
      "\u001b[0;31m---------------------------------------------------------------------------\u001b[0m",
      "\u001b[0;31mAssertionError\u001b[0m                            Traceback (most recent call last)",
      "\u001b[0;32m<ipython-input-11-36d114164073>\u001b[0m in \u001b[0;36m<module>\u001b[0;34m\u001b[0m\n\u001b[1;32m     30\u001b[0m                 \u001b[0;32mif\u001b[0m \u001b[0mgcd\u001b[0m\u001b[0;34m(\u001b[0m\u001b[0men\u001b[0m\u001b[0;34m,\u001b[0m \u001b[0mpow\u001b[0m\u001b[0;34m(\u001b[0m\u001b[0md\u001b[0m\u001b[0;34m,\u001b[0m \u001b[0me\u001b[0m\u001b[0;34m,\u001b[0m \u001b[0men\u001b[0m\u001b[0;34m)\u001b[0m \u001b[0;34m-\u001b[0m \u001b[0mInteger\u001b[0m\u001b[0;34m(\u001b[0m\u001b[0;36m1\u001b[0m\u001b[0;34m)\u001b[0m\u001b[0;34m)\u001b[0m \u001b[0;34m==\u001b[0m \u001b[0mInteger\u001b[0m\u001b[0;34m(\u001b[0m\u001b[0;36m1\u001b[0m\u001b[0;34m)\u001b[0m\u001b[0;34m:\u001b[0m\u001b[0;34m\u001b[0m\u001b[0;34m\u001b[0m\u001b[0m\n\u001b[1;32m     31\u001b[0m                     \u001b[0mprint\u001b[0m\u001b[0;34m(\u001b[0m\u001b[0;34mf\"\\t{d=} {i=} {j=} {k=}, {e=}\"\u001b[0m\u001b[0;34m)\u001b[0m\u001b[0;34m\u001b[0m\u001b[0;34m\u001b[0m\u001b[0m\n\u001b[0;32m---> 32\u001b[0;31m                     \u001b[0;32massert\u001b[0m \u001b[0mpow\u001b[0m\u001b[0;34m(\u001b[0m\u001b[0md\u001b[0m\u001b[0;34m,\u001b[0m \u001b[0me\u001b[0m\u001b[0;34m//\u001b[0m\u001b[0mInteger\u001b[0m\u001b[0;34m(\u001b[0m\u001b[0;36m2\u001b[0m\u001b[0;34m)\u001b[0m\u001b[0;34m,\u001b[0m \u001b[0men\u001b[0m\u001b[0;34m)\u001b[0m \u001b[0;34m==\u001b[0m \u001b[0men\u001b[0m\u001b[0;34m-\u001b[0m\u001b[0mInteger\u001b[0m\u001b[0;34m(\u001b[0m\u001b[0;36m1\u001b[0m\u001b[0;34m)\u001b[0m\u001b[0;34m\u001b[0m\u001b[0;34m\u001b[0m\u001b[0m\n\u001b[0m\u001b[1;32m     33\u001b[0m \u001b[0;34m\u001b[0m\u001b[0m\n\u001b[1;32m     34\u001b[0m                     \u001b[0;32mif\u001b[0m \u001b[0me\u001b[0m \u001b[0;34m<\u001b[0m \u001b[0mshortest_decomposition\u001b[0m\u001b[0;34m[\u001b[0m\u001b[0mInteger\u001b[0m\u001b[0;34m(\u001b[0m\u001b[0;36m4\u001b[0m\u001b[0;34m)\u001b[0m\u001b[0;34m]\u001b[0m\u001b[0;34m:\u001b[0m\u001b[0;34m\u001b[0m\u001b[0;34m\u001b[0m\u001b[0m\n",
      "\u001b[0;31mAssertionError\u001b[0m: "
     ]
    }
   ],
   "source": [
    "try:\n",
    "    _ = existence_values\n",
    "except NameError:\n",
    "    existence_values = [4, 5, 6, 7, 8, 9, 10, 11, 12, 13, 14, 15, 17, 18, 19, 20, 21, 22, 23, 24, 25, 26, 28, 29, 30, 31, 33, 34, 35, 37, 38, 39, 41, 42, 43, 45, 46, 47, 49, 50, 51, 52, 53, 56, 57, 59, 60, 61, 62, 65, 67, 68, 69, 71, 73, 76, 77, 78, 79, 82, 83, 85, 86, 89, 92, 93, 95, 97]\n",
    "\n",
    "shortest_decompositions = {}\n",
    "\n",
    "for n in existence_values:\n",
    "    en = (1<<n)-1\n",
    "\n",
    "    print(f\"{n=} {en=} phi={euler_phi(en)}\")\n",
    "\n",
    "    factors = factor(en)\n",
    "    pm1_divisors = [divisors(p[0]-1) for p in factors]\n",
    "\n",
    "    # Just an unreachable upper bound\n",
    "    shortest_decomposition = (None, None, None, None, euler_phi(en) + 1)\n",
    "\n",
    "    for i in [0] + [(1<<i) for i in range(dyadic(n))]:\n",
    "        # I know there is some redundancy here, but I don't want to complicate the code too much and this is fast enough\n",
    "        for j in range(i+1,n-1):\n",
    "            for k in range(j+1,n):\n",
    "                d = (1<<i) + (1<<j) + (1<<k)\n",
    "\n",
    "                # Sieve with the Jacobi Symbol (i.e. even order)\n",
    "                if jacobi_symbol(d,en) != -1:\n",
    "                    continue\n",
    "\n",
    "                e = order(d, factors, pm1_divisors)//2\n",
    "                if gcd(en, pow(d, e, en) - 1) == 1:\n",
    "                    print(f\"\\t{d=} {i=} {j=} {k=}, {e=}\")\n",
    "                    assert pow(d, e, en) == en-1\n",
    "\n",
    "                    if e < shortest_decomposition[4]:\n",
    "                        shortest_decomposition = (d, i, j, k, e)\n",
    "                \n",
    "    shortest_decompositions[n] = (shortest_decomposition)\n",
    "\n",
    "    print(\"\")\n",
    "\n",
    "shortest_decompositions"
   ]
  }
 ],
 "metadata": {
  "kernelspec": {
   "display_name": "SageMath 9.4",
   "language": "python",
   "name": "sagemath"
  },
  "language_info": {
   "codemirror_mode": {
    "name": "ipython",
    "version": 3
   },
   "file_extension": ".py",
   "mimetype": "text/x-python",
   "name": "python",
   "nbconvert_exporter": "python",
   "pygments_lexer": "ipython3",
   "version": "3.9.9"
  }
 },
 "nbformat": 4,
 "nbformat_minor": 2
}

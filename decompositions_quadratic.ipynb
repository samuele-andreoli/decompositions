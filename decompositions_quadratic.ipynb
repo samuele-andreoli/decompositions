{
 "cells": [
  {
   "cell_type": "code",
   "execution_count": 6,
   "metadata": {},
   "outputs": [],
   "source": [
    "load(\"core_utils.py\")"
   ]
  },
  {
   "cell_type": "markdown",
   "metadata": {},
   "source": [
    "# First pass - search for values of n that admit a decomposition"
   ]
  },
  {
   "cell_type": "code",
   "execution_count": 7,
   "metadata": {},
   "outputs": [
    {
     "data": {
      "text/plain": [
       "[3,\n",
       " 5,\n",
       " 6,\n",
       " 7,\n",
       " 10,\n",
       " 13,\n",
       " 14,\n",
       " 15,\n",
       " 17,\n",
       " 19,\n",
       " 23,\n",
       " 26,\n",
       " 30,\n",
       " 31,\n",
       " 34,\n",
       " 38,\n",
       " 43,\n",
       " 46,\n",
       " 51,\n",
       " 59,\n",
       " 61,\n",
       " 62,\n",
       " 65,\n",
       " 67,\n",
       " 79,\n",
       " 83,\n",
       " 85,\n",
       " 86,\n",
       " 89,\n",
       " 93,\n",
       " 95,\n",
       " 97,\n",
       " 101,\n",
       " 102,\n",
       " 103,\n",
       " 107,\n",
       " 109,\n",
       " 122,\n",
       " 127,\n",
       " 129,\n",
       " 130,\n",
       " 131,\n",
       " 133,\n",
       " 137,\n",
       " 139,\n",
       " 149,\n",
       " 158,\n",
       " 170,\n",
       " 178,\n",
       " 186,\n",
       " 193,\n",
       " 197,\n",
       " 202,\n",
       " 214,\n",
       " 215,\n",
       " 218,\n",
       " 221,\n",
       " 227,\n",
       " 233,\n",
       " 241]"
      ]
     },
     "execution_count": 7,
     "metadata": {},
     "output_type": "execute_result"
    }
   ],
   "source": [
    "existence_values = []\n",
    "\n",
    "for n in range(3,250):\n",
    "    # n can have dyadic valuation at most 1 [Theorem 3.4, And+23]\n",
    "    if n % 4 == 0: continue\n",
    "\n",
    "    en = (1<<n)-1\n",
    "\n",
    "    factors = factor(en)\n",
    "    pm1_divisors = [divisors(p[0]-1) for p in factors]\n",
    "\n",
    "    found = False\n",
    "\n",
    "    for j in range(1):\n",
    "        # n odd means the lemma holds for the whole cyclotomic class\n",
    "        if (n % 2 == 1) and (j > 0):\n",
    "            break\n",
    "\n",
    "        for i in range(1,n//2+1):\n",
    "            d = (1<<j) + (1<<i)\n",
    "\n",
    "            # Sieve with the Jacobi Symbol (i.e. even order)\n",
    "            if jacobi_symbol(d,en) != -1:\n",
    "                continue\n",
    "\n",
    "            e = order(d, factors, pm1_divisors)//2\n",
    "            if gcd(en, pow(d, e, en) - 1) == 1:\n",
    "                assert pow(d, e, en) == en-1\n",
    "                existence_values.append(n)\n",
    "                break\n",
    "        \n",
    "        if found:\n",
    "            break\n",
    "\n",
    "existence_values\n"
   ]
  },
  {
   "cell_type": "markdown",
   "metadata": {},
   "source": [
    "# Second pass - find shortest decomposition for the values of n that admit a decomposition"
   ]
  },
  {
   "cell_type": "code",
   "execution_count": 8,
   "metadata": {},
   "outputs": [
    {
     "name": "stdout",
     "output_type": "stream",
     "text": [
      "n=3 en=7 phi=6\n",
      "\td=3 i=1 j=0, e=3\n",
      "\n",
      "n=5 en=31 phi=30\n",
      "\td=3 i=1 j=0, e=15\n",
      "\n",
      "n=6 en=63 phi=36\n"
     ]
    },
    {
     "ename": "AssertionError",
     "evalue": "",
     "output_type": "error",
     "traceback": [
      "\u001b[0;31m---------------------------------------------------------------------------\u001b[0m",
      "\u001b[0;31mAssertionError\u001b[0m                            Traceback (most recent call last)",
      "\u001b[0;32m<ipython-input-8-7e197deddcba>\u001b[0m in \u001b[0;36m<module>\u001b[0;34m\u001b[0m\n\u001b[1;32m     31\u001b[0m             \u001b[0me\u001b[0m \u001b[0;34m=\u001b[0m \u001b[0morder\u001b[0m\u001b[0;34m(\u001b[0m\u001b[0md\u001b[0m\u001b[0;34m,\u001b[0m \u001b[0mfactors\u001b[0m\u001b[0;34m,\u001b[0m \u001b[0mpm1_divisors\u001b[0m\u001b[0;34m)\u001b[0m\u001b[0;34m//\u001b[0m\u001b[0mInteger\u001b[0m\u001b[0;34m(\u001b[0m\u001b[0;36m2\u001b[0m\u001b[0;34m)\u001b[0m\u001b[0;34m\u001b[0m\u001b[0;34m\u001b[0m\u001b[0m\n\u001b[1;32m     32\u001b[0m             \u001b[0;32mif\u001b[0m \u001b[0mgcd\u001b[0m\u001b[0;34m(\u001b[0m\u001b[0men\u001b[0m\u001b[0;34m,\u001b[0m \u001b[0mpow\u001b[0m\u001b[0;34m(\u001b[0m\u001b[0md\u001b[0m\u001b[0;34m,\u001b[0m \u001b[0me\u001b[0m\u001b[0;34m,\u001b[0m \u001b[0men\u001b[0m\u001b[0;34m)\u001b[0m \u001b[0;34m-\u001b[0m \u001b[0mInteger\u001b[0m\u001b[0;34m(\u001b[0m\u001b[0;36m1\u001b[0m\u001b[0;34m)\u001b[0m\u001b[0;34m)\u001b[0m \u001b[0;34m==\u001b[0m \u001b[0mInteger\u001b[0m\u001b[0;34m(\u001b[0m\u001b[0;36m1\u001b[0m\u001b[0;34m)\u001b[0m\u001b[0;34m:\u001b[0m\u001b[0;34m\u001b[0m\u001b[0;34m\u001b[0m\u001b[0m\n\u001b[0;32m---> 33\u001b[0;31m                 \u001b[0;32massert\u001b[0m \u001b[0mpow\u001b[0m\u001b[0;34m(\u001b[0m\u001b[0md\u001b[0m\u001b[0;34m,\u001b[0m \u001b[0me\u001b[0m\u001b[0;34m,\u001b[0m \u001b[0men\u001b[0m\u001b[0;34m)\u001b[0m \u001b[0;34m==\u001b[0m \u001b[0men\u001b[0m\u001b[0;34m-\u001b[0m\u001b[0mInteger\u001b[0m\u001b[0;34m(\u001b[0m\u001b[0;36m1\u001b[0m\u001b[0;34m)\u001b[0m\u001b[0;34m\u001b[0m\u001b[0;34m\u001b[0m\u001b[0m\n\u001b[0m\u001b[1;32m     34\u001b[0m                 \u001b[0mprint\u001b[0m\u001b[0;34m(\u001b[0m\u001b[0;34mf\"\\t{d=} {i=} {j=}, {e=}\"\u001b[0m\u001b[0;34m)\u001b[0m\u001b[0;34m\u001b[0m\u001b[0;34m\u001b[0m\u001b[0m\n\u001b[1;32m     35\u001b[0m                 \u001b[0;32mif\u001b[0m \u001b[0me\u001b[0m \u001b[0;34m<=\u001b[0m \u001b[0mshortest_decomposition\u001b[0m\u001b[0;34m[\u001b[0m\u001b[0mInteger\u001b[0m\u001b[0;34m(\u001b[0m\u001b[0;36m2\u001b[0m\u001b[0;34m)\u001b[0m\u001b[0;34m]\u001b[0m\u001b[0;34m:\u001b[0m\u001b[0;34m\u001b[0m\u001b[0;34m\u001b[0m\u001b[0m\n",
      "\u001b[0;31mAssertionError\u001b[0m: "
     ]
    }
   ],
   "source": [
    "try:\n",
    "    _ = existence_values\n",
    "except NameError:\n",
    "    existence_values = [3, 5, 6, 7, 10, 13, 14, 15, 17, 19, 23, 26, 30, 31, 34, 38, 43, 46, 51, 59, 61, 62, 65, 67, 79, 83, 85, 86, 89, 93, 95, 97, 101, 102, 103, 107, 109, 122, 127, 129, 130, 131, 133, 137, 139, 149, 158, 170, 178, 186, 193, 197, 202, 214, 215, 218, 221, 227, 233, 241]\n",
    "\n",
    "shortest_decompositions = {}\n",
    "\n",
    "for n in existence_values:\n",
    "    en = (1<<n)-1\n",
    "\n",
    "    print(f\"{n=} {en=} phi={euler_phi(en)}\")\n",
    "\n",
    "    factors = factor(en)\n",
    "    pm1_divisors = [divisors(p[0]-1) for p in factors]\n",
    "\n",
    "    # Just an unreachable upper bound\n",
    "    shortest_decomposition = (None, None, euler_phi(en) + 1)\n",
    "\n",
    "    for j in range(1):\n",
    "        # n odd means the lemma holds for the whole cyclotomic class\n",
    "        if (n % 2 == 1) and (j > 0):\n",
    "            break\n",
    "\n",
    "        for i in range(1,n//2+1):\n",
    "            d = (1<<j) + (1<<i)\n",
    "\n",
    "            # Sieve with the Jacobi Symbol (i.e. even order)\n",
    "            if jacobi_symbol(d,en) != -1:\n",
    "                continue\n",
    "\n",
    "            e = order(d, factors, pm1_divisors)//2\n",
    "            if gcd(en, pow(d, e, en) - 1) == 1:\n",
    "                assert pow(d, e, en) == en-1\n",
    "                print(f\"\\t{d=} {i=} {j=}, {e=}\")\n",
    "                if e <= shortest_decomposition[2]:\n",
    "                    shortest_decomposition = (d, i, e)\n",
    "                \n",
    "    shortest_decompositions[n] = (shortest_decomposition)\n",
    "\n",
    "    print(\"\")\n",
    "\n",
    "shortest_decompositions"
   ]
  }
 ],
 "metadata": {
  "kernelspec": {
   "display_name": "SageMath 9.4",
   "language": "python",
   "name": "sagemath"
  },
  "language_info": {
   "codemirror_mode": {
    "name": "ipython",
    "version": 3
   },
   "file_extension": ".py",
   "mimetype": "text/x-python",
   "name": "python",
   "nbconvert_exporter": "python",
   "pygments_lexer": "ipython3",
   "version": "3.9.9"
  }
 },
 "nbformat": 4,
 "nbformat_minor": 2
}
